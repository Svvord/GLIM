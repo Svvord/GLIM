{
 "cells": [
  {
   "cell_type": "markdown",
   "metadata": {},
   "source": [
    "## GLIM embedding HMLN"
   ]
  },
  {
   "cell_type": "code",
   "execution_count": null,
   "metadata": {},
   "outputs": [],
   "source": [
    "import sys\n",
    "sys.path.append('../')\n",
    "import glim\n",
    "import numpy as np\n",
    "import os\n",
    "import glim.utils as utils"
   ]
  },
  {
   "cell_type": "code",
   "execution_count": null,
   "metadata": {},
   "outputs": [],
   "source": [
    "relationship_file = 'relationship_table.txt'\n",
    "embedding_save_file = '../results/multilayer_feature.npy'"
   ]
  },
  {
   "cell_type": "code",
   "execution_count": null,
   "metadata": {},
   "outputs": [],
   "source": [
    "####################################################\n",
    "#            MultiLayer Dataset                    #\n",
    "####################################################\n",
    "def load_multilayer(filepath='../data/'):\n",
    "    X, A, Y = [], None, []\n",
    "    n_node = 0\n",
    "\n",
    "    # Acquire Edges\n",
    "    edge_list = []\n",
    "    node_list = []\n",
    "    node_type = {}\n",
    "    adj_path = filepath + relationship_file\n",
    "    with open(adj_path, 'rt', encoding='utf-8') as f:\n",
    "        next(f)\n",
    "        for line in f.readlines():\n",
    "            node1, node2, type1, type2, _ = line.strip().split('\\t')\n",
    "            edge_list.append((node1, node2))\n",
    "            node_list.extend([node1, node2])\n",
    "            if len(type1) != 1:\n",
    "                type1 = 'c'\n",
    "            if len(type2) != 1:\n",
    "                type2 = 'c'\n",
    "            node_type[node1] = type1\n",
    "            node_type[node2] = type2\n",
    "                \n",
    "    node_map = {item:i for i, item in enumerate(sorted(list(set(node_list))))}\n",
    "    n_node = len(node_map)\n",
    "    A = np.zeros((n_node, n_node))\n",
    "    for node1, node2 in edge_list:\n",
    "        A[node_map[node1], node_map[node2]] = 1\n",
    "        A[node_map[node2], node_map[node1]] = 1\n",
    "    A = np.float32(A)\n",
    "    \n",
    "    ####################################################\n",
    "    #            Acquire Labels                        #\n",
    "    ####################################################\n",
    "    Y = [node_type[item] for item in sorted(list(set(node_list)))]\n",
    "    label_map = {item: i for i, item in enumerate(sorted(set(Y)))}\n",
    "    Y = np.array([label_map[item] for item in Y])\n",
    "    \n",
    "    \n",
    "    ####################################################\n",
    "    #            Acquire Features                      #\n",
    "    ####################################################\n",
    "    feature_path = filepath + 'relationship_n2v.npy'\n",
    "    if os.path.exists(feature_path):\n",
    "        X = np.load(feature_path)\n",
    "    else:\n",
    "        X = np.float32(utils.N2V(A, 512, 4, 1))\n",
    "        np.save(feature_path, X)\n",
    "    \n",
    "    return X, A, Y"
   ]
  },
  {
   "cell_type": "markdown",
   "metadata": {},
   "source": [
    "loading HMLN graph network"
   ]
  },
  {
   "cell_type": "code",
   "execution_count": null,
   "metadata": {},
   "outputs": [],
   "source": [
    "features, adj, labels = load_multilayer()\n",
    "adj = adj + np.eye(adj.shape[0]) # self-loop is needed"
   ]
  },
  {
   "cell_type": "markdown",
   "metadata": {},
   "source": [
    "GLIM embedding, outputs(npy) is saved to `embedding_save_file`"
   ]
  },
  {
   "cell_type": "code",
   "execution_count": null,
   "metadata": {},
   "outputs": [],
   "source": [
    "glim.train.fit_transform(features, adj, embedding_save_file, device='cuda')"
   ]
  },
  {
   "cell_type": "markdown",
   "metadata": {},
   "source": [
    "Save node's name and index"
   ]
  },
  {
   "cell_type": "code",
   "execution_count": null,
   "metadata": {},
   "outputs": [],
   "source": [
    "filepath='../data/'\n",
    "# Acquire Edges\n",
    "edge_list = []\n",
    "node_list = []\n",
    "node_type = {}\n",
    "adj_path = filepath + relationship_file\n",
    "with open(adj_path, 'rt', encoding='utf-8') as f:\n",
    "    next(f)\n",
    "    for line in f.readlines():\n",
    "        node1, node2, type1, type2,_ = line.strip().split('\\t')\n",
    "        edge_list.append((node1, node2))\n",
    "        node_list.extend([node1, node2])\n",
    "        if len(type1) != 1:\n",
    "            type1 = 'c'\n",
    "        if len(type2) != 1:\n",
    "            type2 = 'c'\n",
    "        node_type[node1] = type1\n",
    "        node_type[node2] = type2\n",
    "\n",
    "node_map = {item:i for i, item in enumerate(sorted(list(set(node_list))))}\n",
    "n_node = len(node_map)"
   ]
  },
  {
   "cell_type": "code",
   "execution_count": null,
   "metadata": {},
   "outputs": [],
   "source": [
    "import json\n",
    "with open('../results/multilayer_node_map.json', 'wt') as f:\n",
    "    json.dump(node_map, f)"
   ]
  },
  {
   "cell_type": "code",
   "execution_count": null,
   "metadata": {},
   "outputs": [],
   "source": []
  }
 ],
 "metadata": {
  "kernelspec": {
   "display_name": "Python 3",
   "language": "python",
   "name": "python3"
  },
  "language_info": {
   "codemirror_mode": {
    "name": "ipython",
    "version": 3
   },
   "file_extension": ".py",
   "mimetype": "text/x-python",
   "name": "python",
   "nbconvert_exporter": "python",
   "pygments_lexer": "ipython3",
   "version": "3.6.10"
  }
 },
 "nbformat": 4,
 "nbformat_minor": 2
}
