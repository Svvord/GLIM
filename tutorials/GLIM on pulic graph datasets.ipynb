{
 "cells": [
  {
   "cell_type": "markdown",
   "metadata": {},
   "source": [
    "## Graph Local InfoMax on Cora, Citeseer and Pubmed"
   ]
  },
  {
   "cell_type": "markdown",
   "metadata": {},
   "source": [
    "This pipeline is used for testing GLIM on non-biological graph data with known label.\n",
    "To test the real results of the GLIM, we divided the dataset randomly and ran it 50 times repeatedly. The number of samples divided between the training and test sets was kept consistent with the default number of settings used by the algorithm related to this domain."
   ]
  },
  {
   "cell_type": "code",
   "execution_count": 1,
   "metadata": {},
   "outputs": [],
   "source": [
    "import pipeline_utils.baselines\n",
    "import torch"
   ]
  },
  {
   "cell_type": "code",
   "execution_count": 2,
   "metadata": {},
   "outputs": [
    {
     "name": "stdout",
     "output_type": "stream",
     "text": [
      "Early stopping!\n",
      "Loading 91th epoch\n",
      "Dataset:cora\tMean:81.46800231933594\tStd:1.4237704277038574\n",
      "\n",
      "Early stopping!\n",
      "Loading 46th epoch\n",
      "Dataset:citeseer\tMean:68.3740005493164\tStd:1.9731695652008057\n",
      "\n",
      "Loading 294th epoch\n",
      "Dataset:pubmed\tMean:78.92400360107422\tStd:2.117908239364624\n",
      "\n"
     ]
    }
   ],
   "source": [
    "for dataset in ['cora', 'citeseer', 'pubmed']:\n",
    "    mean_, std_ = eval(f'pipeline_utils.baselines.glim_pipeline')(dataset)\n",
    "    torch.cuda.empty_cache()\n",
    "    print(f'Dataset:{dataset}\\tMean:{mean_}\\tStd:{std_}')\n",
    "    print()"
   ]
  }
 ],
 "metadata": {
  "kernelspec": {
   "display_name": "Python 3",
   "language": "python",
   "name": "python3"
  },
  "language_info": {
   "codemirror_mode": {
    "name": "ipython",
    "version": 3
   },
   "file_extension": ".py",
   "mimetype": "text/x-python",
   "name": "python",
   "nbconvert_exporter": "python",
   "pygments_lexer": "ipython3",
   "version": "3.6.10"
  }
 },
 "nbformat": 4,
 "nbformat_minor": 2
}
